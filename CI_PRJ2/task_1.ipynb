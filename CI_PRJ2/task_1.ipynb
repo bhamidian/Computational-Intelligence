{
 "cells": [
  {
   "cell_type": "markdown",
   "metadata": {
    "id": "PYCh7DsCP5Mw"
   },
   "source": [
    "### Install Required Libs"
   ]
  },
  {
   "cell_type": "code",
   "execution_count": 1,
   "metadata": {
    "id": "RyzZPqtUP5M5"
   },
   "outputs": [
    {
     "name": "stdout",
     "output_type": "stream",
     "text": [
      "Requirement already satisfied: numpy in /home/abolfazl/miniconda3/envs/cnn/lib/python3.10/site-packages (1.26.3)\n",
      "Note: you may need to restart the kernel to use updated packages.\n",
      "Requirement already satisfied: matplotlib in /home/abolfazl/miniconda3/envs/cnn/lib/python3.10/site-packages (3.9.2)\n",
      "Requirement already satisfied: contourpy>=1.0.1 in /home/abolfazl/miniconda3/envs/cnn/lib/python3.10/site-packages (from matplotlib) (1.3.0)\n",
      "Requirement already satisfied: cycler>=0.10 in /home/abolfazl/miniconda3/envs/cnn/lib/python3.10/site-packages (from matplotlib) (0.12.1)\n",
      "Requirement already satisfied: fonttools>=4.22.0 in /home/abolfazl/miniconda3/envs/cnn/lib/python3.10/site-packages (from matplotlib) (4.54.1)\n",
      "Requirement already satisfied: kiwisolver>=1.3.1 in /home/abolfazl/miniconda3/envs/cnn/lib/python3.10/site-packages (from matplotlib) (1.4.7)\n",
      "Requirement already satisfied: numpy>=1.23 in /home/abolfazl/miniconda3/envs/cnn/lib/python3.10/site-packages (from matplotlib) (1.26.3)\n",
      "Requirement already satisfied: packaging>=20.0 in /home/abolfazl/miniconda3/envs/cnn/lib/python3.10/site-packages (from matplotlib) (24.1)\n",
      "Requirement already satisfied: pillow>=8 in /home/abolfazl/miniconda3/envs/cnn/lib/python3.10/site-packages (from matplotlib) (10.4.0)\n",
      "Requirement already satisfied: pyparsing>=2.3.1 in /home/abolfazl/miniconda3/envs/cnn/lib/python3.10/site-packages (from matplotlib) (3.2.0)\n",
      "Requirement already satisfied: python-dateutil>=2.7 in /home/abolfazl/miniconda3/envs/cnn/lib/python3.10/site-packages (from matplotlib) (2.9.0)\n",
      "Requirement already satisfied: six>=1.5 in /home/abolfazl/miniconda3/envs/cnn/lib/python3.10/site-packages (from python-dateutil>=2.7->matplotlib) (1.16.0)\n",
      "Note: you may need to restart the kernel to use updated packages.\n",
      "Requirement already satisfied: torch in /home/abolfazl/miniconda3/envs/cnn/lib/python3.10/site-packages (2.5.1)\n",
      "Requirement already satisfied: torchvision in /home/abolfazl/miniconda3/envs/cnn/lib/python3.10/site-packages (0.20.1)\n",
      "Requirement already satisfied: torchaudio in /home/abolfazl/miniconda3/envs/cnn/lib/python3.10/site-packages (2.5.1)\n",
      "Requirement already satisfied: tqdm in /home/abolfazl/miniconda3/envs/cnn/lib/python3.10/site-packages (4.66.6)\n",
      "Requirement already satisfied: filelock in /home/abolfazl/miniconda3/envs/cnn/lib/python3.10/site-packages (from torch) (3.13.1)\n",
      "Requirement already satisfied: typing-extensions>=4.8.0 in /home/abolfazl/miniconda3/envs/cnn/lib/python3.10/site-packages (from torch) (4.12.2)\n",
      "Requirement already satisfied: networkx in /home/abolfazl/miniconda3/envs/cnn/lib/python3.10/site-packages (from torch) (3.3)\n",
      "Requirement already satisfied: jinja2 in /home/abolfazl/miniconda3/envs/cnn/lib/python3.10/site-packages (from torch) (3.1.4)\n",
      "Requirement already satisfied: fsspec in /home/abolfazl/miniconda3/envs/cnn/lib/python3.10/site-packages (from torch) (2024.10.0)\n",
      "Requirement already satisfied: sympy==1.13.1 in /home/abolfazl/miniconda3/envs/cnn/lib/python3.10/site-packages (from torch) (1.13.1)\n",
      "Requirement already satisfied: mpmath<1.4,>=1.1.0 in /home/abolfazl/miniconda3/envs/cnn/lib/python3.10/site-packages (from sympy==1.13.1->torch) (1.3.0)\n",
      "Requirement already satisfied: numpy in /home/abolfazl/miniconda3/envs/cnn/lib/python3.10/site-packages (from torchvision) (1.26.3)\n",
      "Requirement already satisfied: pillow!=8.3.*,>=5.3.0 in /home/abolfazl/miniconda3/envs/cnn/lib/python3.10/site-packages (from torchvision) (10.4.0)\n",
      "Requirement already satisfied: MarkupSafe>=2.0 in /home/abolfazl/miniconda3/envs/cnn/lib/python3.10/site-packages (from jinja2->torch) (2.1.3)\n",
      "Note: you may need to restart the kernel to use updated packages.\n"
     ]
    }
   ],
   "source": [
    "# only local run: install required libs (recommended python version 3.10)خب\n",
    "%pip install numpy\n",
    "%pip install matplotlib\n",
    "%pip install torch torchvision torchaudio tqdm"
   ]
  },
  {
   "cell_type": "markdown",
   "metadata": {
    "id": "x8ECrxZGP5M-"
   },
   "source": [
    "### Import Libs"
   ]
  },
  {
   "cell_type": "code",
   "execution_count": 1,
   "metadata": {
    "id": "2Gh-5xKEP5NB"
   },
   "outputs": [],
   "source": [
    "import torch\n",
    "import torch.nn as nn\n",
    "import torch.nn.functional as Functions\n",
    "import torch.optim as Optimizers\n",
    "import numpy as np\n",
    "from torchvision.datasets import FashionMNIST\n",
    "from torchvision.transforms import ToTensor\n",
    "from torch.utils.data import DataLoader\n",
    "from tqdm.auto import tqdm\n",
    "import matplotlib.pyplot as plt"
   ]
  },
  {
   "cell_type": "markdown",
   "metadata": {
    "id": "SgxnptIYP5NE"
   },
   "source": [
    "### Set Device\n",
    "You can use GPU instead of CPU for faster calculation!"
   ]
  },
  {
   "cell_type": "markdown",
   "metadata": {
    "id": "9IpqJWvxUZ01"
   },
   "source": []
  },
  {
   "cell_type": "code",
   "execution_count": 2,
   "metadata": {
    "id": "kXcQVqI3P5NG"
   },
   "outputs": [
    {
     "name": "stdout",
     "output_type": "stream",
     "text": [
      "cuda\n"
     ]
    }
   ],
   "source": [
    "device = \"cuda\" if torch.cuda.is_available() else \"cpu\"\n",
    "print(device)"
   ]
  },
  {
   "cell_type": "markdown",
   "metadata": {
    "id": "eBs-lN2tP5NH"
   },
   "source": [
    "### Download CIFAR-10 Dataset and Transform to Tensor"
   ]
  },
  {
   "cell_type": "code",
   "execution_count": 3,
   "metadata": {
    "id": "QDhq3JAXP5NJ"
   },
   "outputs": [],
   "source": [
    "transform = ToTensor()\n",
    "\n",
    "\"Set download=True to download dataset online\"\n",
    "data_path = './data_'\n",
    "mnist_train = FashionMNIST(data_path, train=True, download=True, transform=transform)\n",
    "mnist_test = FashionMNIST(data_path, train=False, download=True, transform=transform)"
   ]
  },
  {
   "cell_type": "markdown",
   "metadata": {
    "id": "FQSFNFxRP5NL"
   },
   "source": [
    "### A Brief View on Data"
   ]
  },
  {
   "cell_type": "code",
   "execution_count": 4,
   "metadata": {
    "id": "SPCT8zb9P5NO"
   },
   "outputs": [
    {
     "name": "stdout",
     "output_type": "stream",
     "text": [
      "Training:  60000\n",
      "Testing:  10000\n",
      "<class 'tuple'>\n",
      "<class 'torch.Tensor'>\n",
      "torch.Size([1, 28, 28])\n",
      "['T-shirt/top', 'Trouser', 'Pullover', 'Dress', 'Coat', 'Sandal', 'Shirt', 'Sneaker', 'Bag', 'Ankle boot']\n",
      "9\n",
      "Ankle boot\n"
     ]
    }
   ],
   "source": [
    "# size of training and test sets\n",
    "print(\"Training: \", len(mnist_train))\n",
    "print(\"Testing: \", len(mnist_test))\n",
    "\n",
    "# type of train and test: it is a collection of tuple(tensor, label)\n",
    "print(type(mnist_train[0]))\n",
    "\n",
    "# label, as you know, is the class of image\n",
    "# tensor contains image data (You will learn more about Tensor later)\n",
    "image, label = mnist_train[0]\n",
    "print(type(image))\n",
    "\n",
    "# lets check the dimension - it is a 28x28 RGB image\n",
    "print(image.shape)\n",
    "\n",
    "# lets see what classes we have\n",
    "classes = mnist_train.classes\n",
    "print(classes)\n",
    "print(label)\n",
    "print(classes[label])"
   ]
  },
  {
   "cell_type": "markdown",
   "metadata": {
    "id": "4VukCadtP5NR"
   },
   "source": [
    "### Define Batch Size\n",
    "It is important to understand that to build the Neural Network we will work with a large number of parameters. For this reason, it makes sense to load training data in batches."
   ]
  },
  {
   "cell_type": "code",
   "execution_count": 42,
   "metadata": {
    "id": "6amDX4_IP5NS"
   },
   "outputs": [],
   "source": [
    "\"TODO: set a proper batch size\"\n",
    "train_loader = DataLoader(dataset = mnist_train, batch_size=16, shuffle = True, sampler=None)\n",
    "test_loader = DataLoader(dataset= mnist_test, batch_size=16 ,shuffle= True, sampler=None)"
   ]
  },
  {
   "cell_type": "markdown",
   "metadata": {
    "id": "2tsgInTTP5NU"
   },
   "source": [
    "### Define Model\n",
    "Here you need to define your model architecture, use your knowledge of ANN to design one."
   ]
  },
  {
   "cell_type": "code",
   "execution_count": 43,
   "metadata": {
    "id": "qiX-74ZdP5NV"
   },
   "outputs": [],
   "source": [
    "class Model(nn.Module):\n",
    "    def __init__(self, input_shape: int, hidden_units: int, output_shape: int):\n",
    "        super().__init__()\n",
    "        self.layer_stack = nn.Sequential(\n",
    "            nn.Flatten(), \n",
    "            nn.Linear(in_features=input_shape, out_features=hidden_units),\n",
    "            nn.ReLU(),\n",
    "            nn.Linear(in_features=hidden_units, out_features=output_shape),\n",
    "            nn.ReLU()\n",
    "        )\n",
    "    \n",
    "    def forward(self, x: torch.Tensor):\n",
    "        return self.layer_stack(x)"
   ]
  },
  {
   "cell_type": "markdown",
   "metadata": {
    "id": "Bg_NsTB5P5NW"
   },
   "source": [
    "### Create Model"
   ]
  },
  {
   "cell_type": "code",
   "execution_count": 44,
   "metadata": {
    "id": "ke7flvvPP5NX"
   },
   "outputs": [
    {
     "data": {
      "text/plain": [
       "Model(\n",
       "  (layer_stack): Sequential(\n",
       "    (0): Flatten(start_dim=1, end_dim=-1)\n",
       "    (1): Linear(in_features=784, out_features=10, bias=True)\n",
       "    (2): ReLU()\n",
       "    (3): Linear(in_features=10, out_features=10, bias=True)\n",
       "    (4): ReLU()\n",
       "  )\n",
       ")"
      ]
     },
     "execution_count": 44,
     "metadata": {},
     "output_type": "execute_result"
    }
   ],
   "source": [
    "\n",
    "model = Model(input_shape=784, hidden_units= 10, output_shape=len(classes)).to(device)\n",
    "model"
   ]
  },
  {
   "cell_type": "markdown",
   "metadata": {
    "id": "ANKC-PI8P5NY"
   },
   "source": [
    "### Choose a Loss Function"
   ]
  },
  {
   "cell_type": "code",
   "execution_count": 45,
   "metadata": {
    "id": "0or_V377P5NY"
   },
   "outputs": [],
   "source": [
    "\"TODO: set a proper loss function\"\n",
    "criterion =  nn.CrossEntropyLoss()"
   ]
  },
  {
   "cell_type": "markdown",
   "metadata": {
    "id": "n1LDCPwDP5Na"
   },
   "source": [
    "### Choose an Optimizer"
   ]
  },
  {
   "cell_type": "code",
   "execution_count": 46,
   "metadata": {
    "id": "gCGbKeiMP5Nb"
   },
   "outputs": [],
   "source": [
    "\"TODO: set a proper optimizer\"\n",
    "optimizer = torch.optim.SGD(model.parameters(), lr=0.1)\n",
    "\n"
   ]
  },
  {
   "cell_type": "markdown",
   "metadata": {
    "id": "qKDKMSFGP5Nb"
   },
   "source": [
    "### Training Model\n",
    "After configuring all required parameters, it is time to train your model!"
   ]
  },
  {
   "cell_type": "code",
   "execution_count": 47,
   "metadata": {
    "id": "N6qhPT9zP5Nc"
   },
   "outputs": [
    {
     "data": {
      "application/vnd.jupyter.widget-view+json": {
       "model_id": "d30db2701def43e993b38689bb81b005",
       "version_major": 2,
       "version_minor": 0
      },
      "text/plain": [
       "  0%|          | 0/20 [00:00<?, ?it/s]"
      ]
     },
     "metadata": {},
     "output_type": "display_data"
    }
   ],
   "source": [
    "\"TODO: set an optimal epoch\"\n",
    "EPOCHS = 20\n",
    "\n",
    "\" you don't need to change the rest of this code\"\n",
    "\n",
    "train_correct  = []\n",
    "test_correct = []\n",
    "\n",
    "best_train_acc = 0\n",
    "best_test_acc = 0\n",
    "\n",
    "for e in tqdm(range(EPOCHS)):\n",
    "\n",
    "  trn_corr = 0\n",
    "  tst_corr = 0\n",
    "\n",
    "  # training\n",
    "  model.train()\n",
    "  for X_train, y_train in train_loader:\n",
    "\n",
    "    X_train_dev = torch.autograd.Variable(X_train).to(device)\n",
    "    y_train_dev = torch.autograd.Variable(y_train).to(device)\n",
    "\n",
    "    optimizer.zero_grad()\n",
    "\n",
    "    y_pred_dev = model(X_train_dev)\n",
    "    loss = criterion(y_pred_dev, y_train_dev)\n",
    "\n",
    "    loss.backward()\n",
    "    optimizer.step()\n",
    "\n",
    "    predicted = torch.argmax(y_pred_dev, 1)\n",
    "    trn_corr += torch.sum(predicted == y_train_dev)\n",
    "\n",
    "  acc = (trn_corr/len(mnist_train)).item()\n",
    "  best_train_acc = acc if(best_train_acc < acc) else best_train_acc\n",
    "  train_correct.append(acc)\n",
    "\n",
    "  # testing\n",
    "  model.eval()\n",
    "  for X_test, y_test in test_loader:\n",
    "\n",
    "    X_test = X_test.to(device)\n",
    "    y_test = y_test.to(device)\n",
    "\n",
    "    predicted = model(X_test)\n",
    "    predicted = torch.argmax(predicted, 1)\n",
    "    tst_corr += torch.sum(predicted == y_test)\n",
    "\n",
    "  acc = (tst_corr/len(mnist_test)).item()\n",
    "  best_test_acc = acc if(best_test_acc < acc) else best_test_acc\n",
    "  test_correct.append(acc)"
   ]
  },
  {
   "cell_type": "markdown",
   "metadata": {
    "id": "LPXw7uuYP5Ne"
   },
   "source": [
    "### Evaluation\n",
    "Here you can see your model performance."
   ]
  },
  {
   "cell_type": "code",
   "execution_count": 48,
   "metadata": {
    "id": "uK7iE-0SP5Nf"
   },
   "outputs": [
    {
     "data": {
      "image/png": "[encoded data removed]",
      "text/plain": [
       "<Figure size 640x480 with 1 Axes>"
      ]
     },
     "metadata": {},
     "output_type": "display_data"
    },
    {
     "name": "stdout",
     "output_type": "stream",
     "text": [
      "\n",
      "On train - best accuracy: 0.87, final accuracy: 0.87\n",
      "On test - best accuracy: 0.84, final accuracy: 0.84\n"
     ]
    }
   ],
   "source": [
    "plt.plot(train_correct, label='train accuracy')\n",
    "plt.plot(test_correct, label = 'test accuracy')\n",
    "plt.xlabel('Epoch')\n",
    "plt.ylabel('Accuracy')\n",
    "plt.legend(loc='lower right')\n",
    "plt.show();\n",
    "\n",
    "print(\"\\nOn train - best accuracy: {:.2f}, final accuracy: {:.2f}\".format(best_train_acc, train_correct[-1]))\n",
    "print(\"On test - best accuracy: {:.2f}, final accuracy: {:.2f}\".format(best_test_acc, test_correct[-1]))"
   ]
  }
 ],
 "metadata": {
  "accelerator": "GPU",
  "colab": {
   "gpuType": "T4",
   "provenance": []
  },
  "kernelspec": {
   "display_name": "cnn",
   "language": "python",
   "name": "python3"
  },
  "language_info": {
   "codemirror_mode": {
    "name": "ipython",
    "version": 3
   },
   "file_extension": ".py",
   "mimetype": "text/x-python",
   "name": "python",
   "nbconvert_exporter": "python",
   "pygments_lexer": "ipython3",
   "version": "3.10.15"
  }
 },
 "nbformat": 4,
 "nbformat_minor": 0
}
